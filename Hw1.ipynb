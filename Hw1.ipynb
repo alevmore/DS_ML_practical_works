{
  "nbformat": 4,
  "nbformat_minor": 0,
  "metadata": {
    "colab": {
      "provenance": []
    },
    "kernelspec": {
      "name": "python3",
      "display_name": "Python 3"
    },
    "language_info": {
      "name": "python"
    }
  },
  "cells": [
    {
      "cell_type": "code",
      "execution_count": null,
      "metadata": {
        "colab": {
          "base_uri": "https://localhost:8080/"
        },
        "id": "Jw_XEfTFMZFT",
        "outputId": "4d9911f4-6d9d-4cd6-b940-390de1508a56"
      },
      "outputs": [
        {
          "output_type": "stream",
          "name": "stdout",
          "text": [
            "[ 1  2  3  4  5  7  8  6  9 10]\n"
          ]
        }
      ],
      "source": [
        "import numpy as np\n",
        "\n",
        "a = np.array([1, 2, 3, 4, 5, 7, 8, 6, 9, 10], dtype=int)\n",
        "print(a)"
      ]
    },
    {
      "cell_type": "code",
      "source": [
        "b = np.zeros((3, 3), dtype=\"u4\")\n",
        "print(b)"
      ],
      "metadata": {
        "colab": {
          "base_uri": "https://localhost:8080/"
        },
        "id": "6uNEQxfcMzwJ",
        "outputId": "aa7e3676-3232-44ce-ed20-f30d9f56484c"
      },
      "execution_count": null,
      "outputs": [
        {
          "output_type": "stream",
          "name": "stdout",
          "text": [
            "[[0 0 0]\n",
            " [0 0 0]\n",
            " [0 0 0]]\n"
          ]
        }
      ]
    },
    {
      "cell_type": "code",
      "source": [
        "import numpy as np\n",
        "arr = np.random.randint(1, 11, size=(5,5))\n",
        "print (arr)\n",
        "\n"
      ],
      "metadata": {
        "colab": {
          "base_uri": "https://localhost:8080/"
        },
        "id": "gO_domGANFMn",
        "outputId": "6502c5e8-ec2a-4866-d487-aeddf73604fa"
      },
      "execution_count": null,
      "outputs": [
        {
          "output_type": "stream",
          "name": "stdout",
          "text": [
            "[[ 5  6  8  7  2]\n",
            " [ 3  1  3 10  5]\n",
            " [ 4  7  1  5  2]\n",
            " [ 8 10 10  7  9]\n",
            " [10  2  2  7  2]]\n"
          ]
        }
      ]
    },
    {
      "cell_type": "code",
      "source": [
        "import numpy as np\n",
        "arr = np.random.random((4,4))\n",
        "print (arr)"
      ],
      "metadata": {
        "colab": {
          "base_uri": "https://localhost:8080/"
        },
        "id": "4TZdt2ohPX14",
        "outputId": "152bb9c9-8124-44c9-97d7-30971a06cc8f"
      },
      "execution_count": null,
      "outputs": [
        {
          "output_type": "stream",
          "name": "stdout",
          "text": [
            "[[0.27522821 0.13792769 0.1073148  0.89278596]\n",
            " [0.81387421 0.54102193 0.09329216 0.46721715]\n",
            " [0.28509758 0.5025288  0.96517868 0.69518433]\n",
            " [0.26559168 0.55508918 0.19573223 0.65702821]]\n"
          ]
        }
      ]
    },
    {
      "cell_type": "code",
      "source": [
        "import numpy as np\n",
        "a = np.random.randint(1, 11, size=(5,))\n",
        "b= np.random.randint(1, 11, size=(5,))\n",
        "\n",
        "print (a, b, a+b, a-b, a*b)"
      ],
      "metadata": {
        "colab": {
          "base_uri": "https://localhost:8080/"
        },
        "id": "_zJHhYg4eAK3",
        "outputId": "46bd684b-f4b5-42eb-aeb3-1d6416886715"
      },
      "execution_count": null,
      "outputs": [
        {
          "output_type": "stream",
          "name": "stdout",
          "text": [
            "[5 4 4 3 3] [10 10  6  6  5] [15 14 10  9  8] [-5 -6 -2 -3 -2] [50 40 24 18 15]\n"
          ]
        }
      ]
    },
    {
      "cell_type": "code",
      "source": [
        "import numpy as np\n",
        "a = np.arange(7)\n",
        "b= np.arange (2,9)\n",
        "print (np.dot(a, b))"
      ],
      "metadata": {
        "colab": {
          "base_uri": "https://localhost:8080/"
        },
        "id": "iIJ0Yh0Xenpw",
        "outputId": "2566c108-06f9-4a53-d73e-937de3489ffa"
      },
      "execution_count": 56,
      "outputs": [
        {
          "output_type": "stream",
          "name": "stdout",
          "text": [
            "133\n"
          ]
        }
      ]
    },
    {
      "cell_type": "code",
      "source": [
        "import numpy as np\n",
        "arr1 = np.random.randint(1, 11, size=(2,2))\n",
        "arr2 = np.random.randint(1, 11, size=(2,3))\n",
        "print (np.dot(arr1,arr2))"
      ],
      "metadata": {
        "colab": {
          "base_uri": "https://localhost:8080/"
        },
        "id": "SK37Zr01i-pW",
        "outputId": "5afef4dc-c9d8-492a-b3eb-0af5e3a7ad0f"
      },
      "execution_count": 58,
      "outputs": [
        {
          "output_type": "stream",
          "name": "stdout",
          "text": [
            "[[ 55  65  13]\n",
            " [ 86 100  20]]\n"
          ]
        }
      ]
    },
    {
      "cell_type": "code",
      "source": [
        "import numpy as np\n",
        "a = np.random.randint(1, 11, size=(3,3))\n",
        "print(a)\n",
        "print(np.linalg.inv(a))"
      ],
      "metadata": {
        "colab": {
          "base_uri": "https://localhost:8080/"
        },
        "id": "i-0wMGUQmIR4",
        "outputId": "67ca04f9-27a7-430f-d8d5-263c73544418"
      },
      "execution_count": 65,
      "outputs": [
        {
          "output_type": "stream",
          "name": "stdout",
          "text": [
            "[[ 2  7 10]\n",
            " [ 4  3  3]\n",
            " [ 9 10 10]]\n",
            "[[ 0.          0.76923077 -0.23076923]\n",
            " [-0.33333333 -1.79487179  0.87179487]\n",
            " [ 0.33333333  1.1025641  -0.56410256]]\n"
          ]
        }
      ]
    },
    {
      "cell_type": "code",
      "source": [
        "import numpy as np\n",
        "a = np.random.random((4,4))\n",
        "print (a)\n",
        "print(a.T)"
      ],
      "metadata": {
        "colab": {
          "base_uri": "https://localhost:8080/"
        },
        "id": "xNgOqoFjmr3M",
        "outputId": "048be1f6-30e8-4b28-861f-29d230ed3afe"
      },
      "execution_count": 66,
      "outputs": [
        {
          "output_type": "stream",
          "name": "stdout",
          "text": [
            "[[0.89062034 0.39683395 0.9178588  0.61529694]\n",
            " [0.34737388 0.36932949 0.57915069 0.52189544]\n",
            " [0.76552046 0.73653299 0.05218339 0.60439872]\n",
            " [0.93332957 0.88045744 0.92173607 0.65099021]]\n",
            "[[0.89062034 0.34737388 0.76552046 0.93332957]\n",
            " [0.39683395 0.36932949 0.73653299 0.88045744]\n",
            " [0.9178588  0.57915069 0.05218339 0.92173607]\n",
            " [0.61529694 0.52189544 0.60439872 0.65099021]]\n"
          ]
        }
      ]
    },
    {
      "cell_type": "code",
      "source": [
        "import numpy as np\n",
        "a = np.random.randint(1, 11, size=(3,4))\n",
        "c= a.reshape((4,3))\n",
        "b= np.arange (1,5)\n",
        "print (np.dot (b,c))"
      ],
      "metadata": {
        "colab": {
          "base_uri": "https://localhost:8080/"
        },
        "id": "ijuiwpKWreo-",
        "outputId": "e4077248-df97-47c8-ea38-26858bc5ea9a"
      },
      "execution_count": 86,
      "outputs": [
        {
          "output_type": "stream",
          "name": "stdout",
          "text": [
            "[76 54 72]\n"
          ]
        }
      ]
    },
    {
      "cell_type": "code",
      "source": [
        "import numpy as np\n",
        "a= np.random.randint(1, 11, size=(2,2))\n",
        "b= np.random.randint(1, 11, size=(2,2))\n",
        "print (a*b)\n",
        "print (np.dot(a,b))"
      ],
      "metadata": {
        "colab": {
          "base_uri": "https://localhost:8080/"
        },
        "id": "w_7RhUR_s8NL",
        "outputId": "293c0cae-d47e-4b74-d4ab-ecb24fc4548b"
      },
      "execution_count": 88,
      "outputs": [
        {
          "output_type": "stream",
          "name": "stdout",
          "text": [
            "[[4 2]\n",
            " [6 7]]\n",
            "[[16 16]\n",
            " [ 8  8]]\n"
          ]
        }
      ]
    },
    {
      "cell_type": "code",
      "source": [
        "import numpy as np\n",
        "a= np.random.randint(1, 101, size=(5,5))\n",
        "print (a.sum())"
      ],
      "metadata": {
        "colab": {
          "base_uri": "https://localhost:8080/"
        },
        "id": "Zcy_vXEWtcR6",
        "outputId": "1c5d5c7b-c771-4c97-c48f-b6fcea6cfde8"
      },
      "execution_count": 89,
      "outputs": [
        {
          "output_type": "stream",
          "name": "stdout",
          "text": [
            "1322\n"
          ]
        }
      ]
    },
    {
      "cell_type": "code",
      "source": [
        "import numpy as np\n",
        "a= np.random.randint(1, 11, size=(4,4))\n",
        "b= np.random.randint(1, 11, size=(4,4))\n",
        "print (a-b)"
      ],
      "metadata": {
        "colab": {
          "base_uri": "https://localhost:8080/"
        },
        "id": "sQwwflQNuPoB",
        "outputId": "40aa2294-15e0-403c-8966-fdb350c5ac53"
      },
      "execution_count": 90,
      "outputs": [
        {
          "output_type": "stream",
          "name": "stdout",
          "text": [
            "[[ 1  1 -7  1]\n",
            " [-4 -4  8  4]\n",
            " [ 1 -1  2  6]\n",
            " [-6  2 -5 -2]]\n"
          ]
        }
      ]
    },
    {
      "cell_type": "code",
      "source": [
        "import numpy as np\n",
        "a= np.random.random((3,3))\n",
        "\n",
        "print (a)\n",
        "print (a[0:, 0].sum())\n",
        "print (a[0:, 1].sum())\n",
        "print (a[0:, 2].sum())\n"
      ],
      "metadata": {
        "colab": {
          "base_uri": "https://localhost:8080/"
        },
        "id": "ho38Hto6ukdl",
        "outputId": "0e86cf25-f003-45df-bbb4-be3f26e325ec"
      },
      "execution_count": 99,
      "outputs": [
        {
          "output_type": "stream",
          "name": "stdout",
          "text": [
            "[[0.77740014 0.22079789 0.67007648]\n",
            " [0.89419974 0.64934292 0.39699824]\n",
            " [0.81122071 0.90590962 0.2901981 ]]\n",
            "2.482820586053794\n",
            "1.7760504232646412\n",
            "1.3572728268492371\n"
          ]
        }
      ]
    },
    {
      "cell_type": "code",
      "source": [
        "import numpy as np\n",
        "a= np.random.randint(12, size=(3,3))\n",
        "a_sq= np.square(a)\n",
        "print (a)\n",
        "print (a_sq)"
      ],
      "metadata": {
        "colab": {
          "base_uri": "https://localhost:8080/"
        },
        "id": "hIAJqvx9yazM",
        "outputId": "9da917cd-5965-498b-fc20-ce5ae3993f43"
      },
      "execution_count": 108,
      "outputs": [
        {
          "output_type": "stream",
          "name": "stdout",
          "text": [
            "[[11  4 10]\n",
            " [ 0  9  1]\n",
            " [11 10  5]]\n",
            "[[121  16 100]\n",
            " [  0  81   1]\n",
            " [121 100  25]]\n"
          ]
        }
      ]
    },
    {
      "cell_type": "code",
      "source": [
        "import numpy as np\n",
        "a= np.random.randint(1, 51, size=(4,))\n",
        "a_sqrt = np.sqrt (a)\n",
        "print (a)\n",
        "print (a_sqrt)"
      ],
      "metadata": {
        "colab": {
          "base_uri": "https://localhost:8080/"
        },
        "id": "e3PR1kZm2Ut9",
        "outputId": "0ab025cf-9219-4204-d124-1f970dff5a4c"
      },
      "execution_count": 112,
      "outputs": [
        {
          "output_type": "stream",
          "name": "stdout",
          "text": [
            "[28 20 18 27]\n",
            "[5.29150262 4.47213595 4.24264069 5.19615242]\n"
          ]
        }
      ]
    }
  ]
}